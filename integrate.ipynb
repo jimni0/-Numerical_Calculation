{
 "cells": [
  {
   "cell_type": "code",
   "execution_count": 1,
   "metadata": {},
   "outputs": [],
   "source": [
    "import numpy as np\n",
    "import matplotlib.pyplot as plt\n",
    "\n",
    "import scipy.integrate"
   ]
  },
  {
   "cell_type": "code",
   "execution_count": 2,
   "metadata": {},
   "outputs": [],
   "source": [
    "from scipy.integrate import trapz\n",
    "from scipy.integrate import simps"
   ]
  },
  {
   "cell_type": "code",
   "execution_count": 8,
   "metadata": {},
   "outputs": [
    {
     "name": "stderr",
     "output_type": "stream",
     "text": [
      "C:\\Users\\jimin\\AppData\\Local\\Temp\\ipykernel_10992\\2815233169.py:7: DeprecationWarning: 'scipy.integrate.trapz' is deprecated in favour of 'scipy.integrate.trapezoid' and will be removed in SciPy 1.14.0\n",
      "  result_t = trapz(y, x, dx=0.01)\n",
      "C:\\Users\\jimin\\AppData\\Local\\Temp\\ipykernel_10992\\2815233169.py:12: DeprecationWarning: 'scipy.integrate.simps' is deprecated in favour of 'scipy.integrate.simpson' and will be removed in SciPy 1.14.0\n",
      "  result_s = simps(y, x, dx = 0.01)\n"
     ]
    },
    {
     "name": "stdout",
     "output_type": "stream",
     "text": [
      "10.049382716049383\n",
      "The error with Traprzoidal integral: 0.004938271604938293\n",
      "10.0\n",
      "The error with Simpson's integral: 0.0\n"
     ]
    },
    {
     "data": {
      "image/png": "[encoded data removed]",
      "text/plain": [
       "<Figure size 640x480 with 1 Axes>"
      ]
     },
     "metadata": {},
     "output_type": "display_data"
    }
   ],
   "source": [
    "#f(x) = 3x^2 + 1: (0.2)\n",
    "x = np.linspace(0,2,10)\n",
    "y = 3*x**2 + 1\n",
    "\n",
    "plt.plot(x,y)\n",
    "true_value = 10.0\n",
    "result_t = trapz(y, x, dx=0.01)\n",
    "print(result_t)\n",
    "err_t = np.abs(true_value - result_t) / true_value\n",
    "print(\"The error with Traprzoidal integral:\",err_t)\n",
    "\n",
    "result_s = simps(y, x, dx = 0.01)\n",
    "print(result_s)\n",
    "err_s = np.abs(true_value - result_s) / true_value\n",
    "print(\"The error with Simpson's integral:\",err_s)"
   ]
  },
  {
   "cell_type": "code",
   "execution_count": 11,
   "metadata": {},
   "outputs": [
    {
     "name": "stdout",
     "output_type": "stream",
     "text": [
      "10.000100000000002\n"
     ]
    }
   ],
   "source": [
    "def my_f(x):\n",
    "    return 3*x**2 + 1\n",
    "\n",
    "def my_trapz(my_f, a, b, n):\n",
    "    x = np.linspace(a,b,n+1)\n",
    "    y = my_f(x)\n",
    "    h = float((b-a)/n)\n",
    "    value = h/2.0 * (y[0] + 2.0*np.sum(y[1:n]) + y[n])\n",
    "    return value\n",
    "\n",
    "result = my_trapz(my_f, 0, 2, 200)\n",
    "print(result)"
   ]
  },
  {
   "cell_type": "code",
   "execution_count": 13,
   "metadata": {},
   "outputs": [],
   "source": [
    "from scipy.integrate import quad"
   ]
  },
  {
   "cell_type": "code",
   "execution_count": 14,
   "metadata": {},
   "outputs": [
    {
     "name": "stdout",
     "output_type": "stream",
     "text": [
      "10.000000000000002\n"
     ]
    }
   ],
   "source": [
    "def integrand(x):\n",
    "    value = 3.0*x**2 + 1\n",
    "    return value\n",
    "\n",
    "value, err = quad(integrand, 0, 2)\n",
    "print(value)"
   ]
  },
  {
   "cell_type": "code",
   "execution_count": 16,
   "metadata": {},
   "outputs": [
    {
     "name": "stdout",
     "output_type": "stream",
     "text": [
      "0.29943976718048754\n"
     ]
    }
   ],
   "source": [
    "def integrand(x):\n",
    "    value = np.exp(-x)*np.sin(3*x)\n",
    "    return value\n",
    "\n",
    "value, err = quad(integrand, 0, 2.*np.pi) #0부터 2파이까지 적분하겠단 소리임.\n",
    "print(value)"
   ]
  },
  {
   "cell_type": "code",
   "execution_count": 18,
   "metadata": {},
   "outputs": [
    {
     "name": "stdout",
     "output_type": "stream",
     "text": [
      "(10.000000000000002, 1.1102230246251568e-13)\n"
     ]
    }
   ],
   "source": [
    "def integrand(x,a,b):\n",
    "    value = a*x**2 + b\n",
    "    return value\n",
    "\n",
    "a = 3\n",
    "b = 1\n",
    "\n",
    "I = quad(integrand, 0, 2, args=(a,b))\n",
    "print(I)"
   ]
  },
  {
   "cell_type": "code",
   "execution_count": 19,
   "metadata": {},
   "outputs": [
    {
     "name": "stdout",
     "output_type": "stream",
     "text": [
      "(0.04890051070805328, 3.8165623275563357e-10)\n"
     ]
    }
   ],
   "source": [
    "def integrand(t, n, x): #t에 대한 적분임, n과 x는 argument일뿐\n",
    "    return np.exp(-x*t)/t**n\n",
    "\n",
    "n = 1\n",
    "x = 2\n",
    "\n",
    "I = quad(integrand, 1, np.inf, args=(n,x)) #1에서 무한대까지 적분을 하겠단 소리임 \n",
    "print(I)"
   ]
  },
  {
   "cell_type": "code",
   "execution_count": 22,
   "metadata": {},
   "outputs": [
    {
     "name": "stdout",
     "output_type": "stream",
     "text": [
      "(0.33333333325010883, 2.8604069920115143e-09)\n"
     ]
    }
   ],
   "source": [
    "def inte2(t, n, x): \n",
    "    value = np.exp(-x*t)/t**n\n",
    "    return value\n",
    "\n",
    "def inte1(x, n): #x가 변수, n은 argument\n",
    "    return quad(inte2, 1.0, np.inf, args=(n,x))[0] #첫번째 값만 쓰겟다!!\n",
    "\n",
    "n = 3 #고정됨\n",
    "\n",
    "I = quad(inte1, 0.0, np.inf, args=(n))\n",
    "print(I)"
   ]
  },
  {
   "cell_type": "code",
   "execution_count": 24,
   "metadata": {},
   "outputs": [
    {
     "name": "stdout",
     "output_type": "stream",
     "text": [
      "(0.010416666666666668, 1.1564823173178715e-16)\n"
     ]
    }
   ],
   "source": [
    "def inte2(x, y): \n",
    "    return x*y\n",
    "\n",
    "def inte1(y): \n",
    "    return quad(inte2, 0.0, 1.0-2.0*y, args=(y))[0]\n",
    "\n",
    "I = quad(inte1, 0.0, 0.5)\n",
    "print(I)\n",
    "\n",
    "#이거 알고 있기"
   ]
  },
  {
   "cell_type": "code",
   "execution_count": 27,
   "metadata": {},
   "outputs": [
    {
     "data": {
      "text/plain": [
       "(0.010416666666666668, 4.101620128472366e-16)"
      ]
     },
     "execution_count": 27,
     "metadata": {},
     "output_type": "execute_result"
    }
   ],
   "source": [
    "from scipy.integrate import nquad\n",
    "\n",
    "def f(x,y):\n",
    "    return x*y\n",
    "\n",
    "def bounds_y():\n",
    "    return [0,0.5]\n",
    "\n",
    "def bounds_x(y):\n",
    "    return [0, 1-2*y]\n",
    "\n",
    "nquad(f, [bounds_x, bounds_y])"
   ]
  },
  {
   "cell_type": "code",
   "execution_count": 33,
   "metadata": {},
   "outputs": [
    {
     "name": "stdout",
     "output_type": "stream",
     "text": [
      "4.356553841986115e+17\n",
      "13.814541609545012\n"
     ]
    }
   ],
   "source": [
    "def integrand(z):\n",
    "    omega_m = 0.26\n",
    "    omega_lambda = 0.74\n",
    "    omega_k = 8e-5\n",
    "    E_z = (1+z)**3*omega_m+(1+z)**2*omega_k+omega_lambda\n",
    "    return 1./(1+z)/np.sqrt(E_z)\n",
    "\n",
    "H0 = 71 #km/s/Mpc\n",
    "h0 = H0*1e5/3.084e24\n",
    "t0 = 1./h0*quad(integrand, 0, np.inf)[0]\n",
    "print(t0) #in second\n",
    "print(t0/(60.*60.*24.*365.*1e9))"
   ]
  }
 ],
 "metadata": {
  "kernelspec": {
   "display_name": "Python 3",
   "language": "python",
   "name": "python3"
  },
  "language_info": {
   "codemirror_mode": {
    "name": "ipython",
    "version": 3
   },
   "file_extension": ".py",
   "mimetype": "text/x-python",
   "name": "python",
   "nbconvert_exporter": "python",
   "pygments_lexer": "ipython3",
   "version": "3.11.5"
  }
 },
 "nbformat": 4,
 "nbformat_minor": 2
}
